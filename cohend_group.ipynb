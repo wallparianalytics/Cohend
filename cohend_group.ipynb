{
 "cells": [
  {
   "cell_type": "markdown",
   "metadata": {},
   "source": [
    "# Función `cohend_group`\n",
    "Implementación en un notebook para Google Colab.\n",
    "Permite seleccionar las variables pre y post y el método para calcular el tamaño del efecto de Cohen."
   ]
  },
  {
   "cell_type": "code",
   "metadata": {},
   "execution_count": null,
   "outputs": [],
   "source": [
    "# Instalar dependencias en Colab (si es necesario)\n",
    "!pip install -q xlsxwriter"
   ]
  },
  {
   "cell_type": "code",
   "metadata": {},
   "execution_count": null,
   "outputs": [],
   "source": [
    "import pandas as pd\n",
    "import numpy as np\n",
    "from scipy import stats"
   ]
  },
  {
   "cell_type": "code",
   "metadata": {},
   "execution_count": null,
   "outputs": [],
   "source": [
    "def cohend_group(df: pd.DataFrame, varlist: list[str], group: str, method: str = 'dz') -> pd.DataFrame:\n",
    "    \"\"\"Calcula el tamaño del efecto de Cohen d por nivel de un grupo.\n",
    "    Los valores 2 representan 'logro'. Se calcula la proporción de logros en las\n",
    "    variables PRE y POST, su diferencia y el tamaño de efecto según el método\n",
    "    indicado. También se exporta el resultado a un archivo Excel.\n",
    "    \"\"\"\n",
    "    # 1. Validaciones iniciales\n",
    "    if group not in df.columns:\n",
    "        raise ValueError(f'La columna de grupo {group!r} no existe en el DataFrame')\n",
    "    if len(varlist) % 2 != 0:\n",
    "        raise ValueError(\"'varlist' debe contener un número par de variables\")\n",
    "    for col in varlist:\n",
    "        if col not in df.columns:\n",
    "            raise ValueError(f'La columna {col!r} no existe en el DataFrame')\n",
    "\n",
    "    # 2. Separar en listas PRE y POST\n",
    "    mid = len(varlist) // 2\n",
    "    prevars = varlist[:mid]\n",
    "    postvars = varlist[mid:]\n",
    "\n",
    "    dfc = df.copy()\n",
    "    # 3. Asegurar valores numéricos\n",
    "    dfc[prevars + postvars] = dfc[prevars + postvars].apply(pd.to_numeric, errors='coerce')\n",
    "\n",
    "    # 4. Proporciones y diferencia por fila\n",
    "    dfc['tpre'] = (dfc[prevars] == 2).mean(axis=1)\n",
    "    dfc['tpost'] = (dfc[postvars] == 2).mean(axis=1)\n",
    "    dfc['dif'] = dfc['tpost'] - dfc['tpre']\n",
    "\n",
    "    resultados = []\n",
    "    # 5. Iterar por cada nivel de grupo\n",
    "    for nivel in dfc[group].astype(str).unique():\n",
    "        sub = dfc[dfc[group].astype(str) == str(nivel)]\n",
    "        sub = sub.dropna(subset=['tpre', 'tpost'])\n",
    "        N = len(sub)\n",
    "        if N == 0:\n",
    "            continue\n",
    "        m_pre = sub['tpre'].mean()\n",
    "        m_post = sub['tpost'].mean()\n",
    "        m_diff = sub['dif'].mean()\n",
    "        sd_pre = sub['tpre'].std(ddof=1)\n",
    "        sd_post = sub['tpost'].std(ddof=1)\n",
    "        sd_diff = sub['dif'].std(ddof=1)\n",
    "        r_pp = sub['tpre'].corr(sub['tpost'])\n",
    "\n",
    "        if method == 'dz':\n",
    "            denom = sd_diff\n",
    "        elif method == 'dav':\n",
    "            denom = (sd_pre + sd_post) / 2\n",
    "        elif method == 'drm':\n",
    "            denom = np.sqrt(sd_pre**2 + sd_post**2 - 2 * r_pp * sd_pre * sd_post)\n",
    "        else:\n",
    "            raise ValueError(\"method debe ser 'dz', 'dav' o 'drm'\")\n",
    "\n",
    "        d_cohen = m_diff / denom if denom else np.nan\n",
    "\n",
    "        if N >= 2:\n",
    "            t_res = stats.ttest_rel(sub['tpost'], sub['tpre'], nan_policy='omit')\n",
    "            p_value = t_res.pvalue\n",
    "        else:\n",
    "            p_value = np.nan\n",
    "\n",
    "        if pd.isna(d_cohen):\n",
    "            magnitude = 'NA'\n",
    "            symbol = ''\n",
    "        elif abs(d_cohen) >= 0.80:\n",
    "            magnitude = 'GRANDE'\n",
    "            symbol = '\u2605\u2605\u2605'\n",
    "        elif abs(d_cohen) >= 0.50:\n",
    "            magnitude = 'MEDIANO'\n",
    "            symbol = '\u2605\u2605'\n",
    "        elif abs(d_cohen) >= 0.20:\n",
    "            magnitude = 'PEQUEÑO'\n",
    "            symbol = '\u2605'\n",
    "        else:\n",
    "            magnitude = 'TRIVIAL'\n",
    "            symbol = ''\n",
    "\n",
    "        resultados.append({\n",
    "            'grupo': nivel,\n",
    "            'N': N,\n",
    "            'm_pre': m_pre,\n",
    "            'm_post': m_post,\n",
    "            'm_diff': m_diff,\n",
    "            'd_cohen': d_cohen,\n",
    "            'p_value': p_value,\n",
    "            'magnitude': magnitude,\n",
    "            'symbol': symbol\n",
    "        })\n",
    "\n",
    "    result_df = pd.DataFrame(resultados)\n",
    "    filename = 'cohend_resultados.xlsx'\n",
    "    titulo = f\"Cohen d – Variables: {', '.join(prevars)}, {', '.join(postvars)} (método={method})\"\n",
    "    with pd.ExcelWriter(filename, engine='xlsxwriter') as writer:\n",
    "        result_df.to_excel(writer, sheet_name='resultados', startrow=2, index=False)\n",
    "        writer.sheets['resultados'].write('A1', titulo)\n",
    "    print(f'Archivo guardado: {filename}')\n",
    "    return result_df"
   ]
  },
  {
   "cell_type": "markdown",
   "metadata": {},
   "source": [
    "## Seleccionar variables y método\n",
    "Modifica las siguientes celdas para elegir las variables PRE y POST y el método para calcular d."
   ]
  },
  {
   "cell_type": "code",
   "metadata": {},
   "execution_count": null,
   "outputs": [],
   "source": [
    "# Listado de columnas disponibles en df\n",
    "list(df.columns)"
   ]
  },
  {
   "cell_type": "code",
   "metadata": {},
   "execution_count": null,
   "outputs": [],
   "source": [
    "# Editar manualmente la lista de variables (mitad PRE, mitad POST)\n",
    "varlist = ['ce_p1', 'ce_p2', 'cs_i1_p1', 'cs_i1_p2']\n",
    "# Método para el denominador: 'dz', 'dav' o 'drm'\n",
    "method = 'dav'"
   ]
  },
  {
   "cell_type": "code",
   "metadata": {},
   "execution_count": null,
   "outputs": [],
   "source": [
    "resultados = cohend_group(df, varlist, group='macro', method=method)\n",
    "resultados"
   ]
  }
 ],
 "metadata": {
  "kernelspec": {
   "display_name": "Python 3",
   "language": "python",
   "name": "python3"
  },
  "language_info": {
   "name": "python",
   "version": "3.x"
  }
 },
 "nbformat": 4,
 "nbformat_minor": 5
}
